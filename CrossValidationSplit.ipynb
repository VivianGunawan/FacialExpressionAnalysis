{
 "cells": [
  {
   "cell_type": "code",
   "execution_count": null,
   "metadata": {},
   "outputs": [],
   "source": [
    "import pandas as pd\n",
    "import numpy as np\n",
    "import time\n",
    "import glob\n",
    "import os\n",
    "import matplotlib.pyplot as plt\n",
    "from sklearn.model_selection import StratifiedKFold"
   ]
  },
  {
   "cell_type": "code",
   "execution_count": null,
   "metadata": {},
   "outputs": [],
   "source": [
    "labels = pd.read_csv(\"labels2020.csv\")\n",
    "labels['Label'].value_counts()"
   ]
  },
  {
   "cell_type": "code",
   "execution_count": null,
   "metadata": {},
   "outputs": [],
   "source": [
    "# visualize the distribution for each class\n",
    "# plot from here: https://www.kaggle.com/careyai/inceptionv3-full-pretrained-model-instructions\n",
    "ax=pd.value_counts(labels['Label']).plot(kind='bar', title=\"Class Distribution 2019 Videos\", figsize=(5,5))\n",
    "ax.set(xlabel=\"Videos per class\", ylabel=\"Classes\")\n",
    "plt.show()"
   ]
  },
  {
   "cell_type": "code",
   "execution_count": null,
   "metadata": {},
   "outputs": [],
   "source": [
    "# do a 5 fold cv split and save the fold number for each file\n",
    "skf = StratifiedKFold(n_splits = 5, shuffle = True, random_state = 8)\n",
    "fold = 0\n",
    "test_indices = []\n",
    "for train_index, test_index in skf.split(labels['Filename'], labels['Label']):\n",
    "    fold += 1\n",
    "    test_indices.append(test_index)"
   ]
  },
  {
   "cell_type": "code",
   "execution_count": null,
   "metadata": {},
   "outputs": [],
   "source": [
    "print(test_indices)\n",
    "test_fold = [0]*len(labels)\n",
    "labels['TestFold'] = test_fold"
   ]
  },
  {
   "cell_type": "code",
   "execution_count": null,
   "metadata": {},
   "outputs": [],
   "source": [
    "for i, fold in enumerate(test_indices):\n",
    "    for index in fold:\n",
    "        labels['TestFold'].iloc[index] = i"
   ]
  },
  {
   "cell_type": "code",
   "execution_count": null,
   "metadata": {},
   "outputs": [],
   "source": [
    "# plot taken from here: https://stackoverflow.com/questions/23415500/pandas-plotting-a-stacked-bar-chart\n",
    "labels.groupby(['TestFold', 'Label']).size().unstack().plot(kind='bar', stacked=True, title = \"Class Distribution by Fold 2020\", label = \"upper right\")\n",
    "plt.legend(loc = 'right')"
   ]
  },
  {
   "cell_type": "code",
   "execution_count": null,
   "metadata": {},
   "outputs": [],
   "source": [
    "labels.to_csv(\"labelsfolds2020.csv\")"
   ]
  },
  {
   "cell_type": "code",
   "execution_count": null,
   "metadata": {},
   "outputs": [],
   "source": []
  }
 ],
 "metadata": {
  "kernelspec": {
   "display_name": "Python 3",
   "language": "python",
   "name": "python3"
  },
  "language_info": {
   "codemirror_mode": {
    "name": "ipython",
    "version": 3
   },
   "file_extension": ".py",
   "mimetype": "text/x-python",
   "name": "python",
   "nbconvert_exporter": "python",
   "pygments_lexer": "ipython3",
   "version": "3.8.3"
  }
 },
 "nbformat": 4,
 "nbformat_minor": 4
}
